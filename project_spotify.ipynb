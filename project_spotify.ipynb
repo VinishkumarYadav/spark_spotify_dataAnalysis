{
 "cells": [
  {
   "cell_type": "code",
   "execution_count": 8,
   "id": "80116aac-e5a5-4d02-a001-3065d52225ca",
   "metadata": {},
   "outputs": [],
   "source": [
    "# Import the required libraries\n",
    "\n",
    "from pyspark.sql import SparkSession\n",
    "from pyspark.sql.functions import *\n",
    "from pyspark.sql.types import *\n",
    "from pyspark.sql.window import Window"
   ]
  },
  {
   "cell_type": "code",
   "execution_count": 10,
   "id": "f663ffc4-d9aa-4083-a0e1-5036c130a64a",
   "metadata": {},
   "outputs": [],
   "source": [
    "# Step 1: Initialize a Spark session\n",
    "spark = SparkSession.builder \\\n",
    "    .appName(\"Spotify_Read_Files\") \\\n",
    "    .getOrCreate()"
   ]
  },
  {
   "cell_type": "markdown",
   "id": "a89f406c-d3c2-4d01-9bba-d465e2dfcc8c",
   "metadata": {},
   "source": [
    "# Working on spotify_albums_data_2023.csv"
   ]
  },
  {
   "cell_type": "markdown",
   "id": "5597ec5d-a589-4842-b62f-d35b8d25e4bb",
   "metadata": {},
   "source": [
    "## Cleaning the data"
   ]
  },
  {
   "cell_type": "code",
   "execution_count": 12,
   "id": "83244d0a-8c6e-4f5e-8c95-ddc5804029a0",
   "metadata": {},
   "outputs": [],
   "source": [
    "# Load the data of spotify-album_data_2023.csv\n",
    "spotify_album_df=spark.read.format(\"csv\")\\\n",
    ".option(\"header\",\"true\")\\\n",
    ".option(\"inferschema\",\"true\")\\\n",
    ".option(\"mode\",\"PERMISSIVE\")\\\n",
    ".load(\"C:/Users/vinishkumar.yadav/pyspark/spotify_dataset/data/spotify-albums_data_2023.csv\")"
   ]
  },
  {
   "cell_type": "code",
   "execution_count": null,
   "id": "7e454897-bade-4be9-81aa-f93a5fb1fdcc",
   "metadata": {},
   "outputs": [],
   "source": [
    "# Display the data\n",
    "spotify_album_df.show(10,False)"
   ]
  },
  {
   "cell_type": "code",
   "execution_count": 14,
   "id": "92f4c6ba-7399-48aa-94f4-0f3f23e464c8",
   "metadata": {},
   "outputs": [
    {
     "name": "stdout",
     "output_type": "stream",
     "text": [
      "root\n",
      " |-- track_name: string (nullable = true)\n",
      " |-- track_id: string (nullable = true)\n",
      " |-- track_number: string (nullable = true)\n",
      " |-- duration_ms: string (nullable = true)\n",
      " |-- album_type: string (nullable = true)\n",
      " |-- artists: string (nullable = true)\n",
      " |-- total_tracks: string (nullable = true)\n",
      " |-- album_name: string (nullable = true)\n",
      " |-- release_date: string (nullable = true)\n",
      " |-- label: string (nullable = true)\n",
      " |-- album_popularity: string (nullable = true)\n",
      " |-- album_id: string (nullable = true)\n",
      " |-- artist_id: string (nullable = true)\n",
      " |-- artist_0: string (nullable = true)\n",
      " |-- artist_1: string (nullable = true)\n",
      " |-- artist_2: string (nullable = true)\n",
      " |-- artist_3: string (nullable = true)\n",
      " |-- artist_4: string (nullable = true)\n",
      " |-- artist_5: string (nullable = true)\n",
      " |-- artist_6: string (nullable = true)\n",
      " |-- artist_7: string (nullable = true)\n",
      " |-- artist_8: string (nullable = true)\n",
      " |-- artist_9: string (nullable = true)\n",
      " |-- artist_10: string (nullable = true)\n",
      " |-- artist_11: string (nullable = true)\n",
      " |-- duration_sec: string (nullable = true)\n",
      "\n"
     ]
    }
   ],
   "source": [
    "# Display the datatype of columns\n",
    "spotify_album_df.printSchema()"
   ]
  },
  {
   "cell_type": "code",
   "execution_count": null,
   "id": "44d61ff7-078c-40bd-a0bb-1d5bd7299a02",
   "metadata": {},
   "outputs": [],
   "source": [
    "from IPython.display import display\n",
    "import pandas as pd\n",
    "\n",
    "# Convert to Pandas for better display\n",
    "spotify_album_df_pd = spotify_album_df.toPandas()\n",
    "\n",
    "# Display in JupyterLab with scroll\n",
    "display(spotify_album_df_pd.head(10))  # Show first 10 rows\n"
   ]
  },
  {
   "cell_type": "code",
   "execution_count": null,
   "id": "65332e37-b5f6-41f0-9781-ba7a51de07eb",
   "metadata": {},
   "outputs": [],
   "source": [
    "# Display the column names\n",
    "spotify_album_df.columns"
   ]
  },
  {
   "cell_type": "code",
   "execution_count": null,
   "id": "66bbac16-2b8e-4531-be76-47cc300504b3",
   "metadata": {},
   "outputs": [],
   "source": [
    "spotify_album_df.describe().show()"
   ]
  },
  {
   "cell_type": "code",
   "execution_count": null,
   "id": "df479824-447a-4233-98ef-e76a19dd4219",
   "metadata": {
    "scrolled": true
   },
   "outputs": [],
   "source": [
    "# Using pandas for better Display\n",
    "display(spotify_album_df_pd.describe().head())"
   ]
  },
  {
   "cell_type": "code",
   "execution_count": 16,
   "id": "4af578d5-f042-4a16-aa60-7ce0805a2ad3",
   "metadata": {},
   "outputs": [
    {
     "name": "stdout",
     "output_type": "stream",
     "text": [
      "Number of rows : 438973\n",
      "Number of columns : 26\n"
     ]
    }
   ],
   "source": [
    "# Finding number of rows and columns\n",
    "\n",
    "row_num_spotify_album=spotify_album_df.count()\n",
    "column_num_spotify_album=len(spotify_album_df.columns)\n",
    "\n",
    "print(f\"Number of rows : {row_num_spotify_album}\")\n",
    "print(f\"Number of columns : {column_num_spotify_album}\")"
   ]
  },
  {
   "cell_type": "code",
   "execution_count": null,
   "id": "3da8f25a-9411-4599-8b1b-0abced2bd606",
   "metadata": {},
   "outputs": [],
   "source": [
    "# Null Count in entire dataFrame\n",
    "null_count_spotify_album = spotify_album_df.select([sum(col(i).isNull().cast(\"int\")).alias(i) for i in spotify_album_df.columns])\n",
    "#print(null_count_spotify_album.show())\n",
    "null_count_spotify_album.show()"
   ]
  },
  {
   "cell_type": "code",
   "execution_count": null,
   "id": "03b7c6ef-c4a7-4e7a-a0a0-f7acebaf8c53",
   "metadata": {},
   "outputs": [],
   "source": [
    "# Convert to Pandas for better display\n",
    "null_count_spotify_album_df_pd = null_count_spotify_album.toPandas()\n",
    "\n",
    "# Display in JupyterLab with scroll\n",
    "display(null_count_spotify_album_df_pd.head())  # Show first 10 rows"
   ]
  },
  {
   "cell_type": "code",
   "execution_count": null,
   "id": "b49d4e56-7c8f-4b29-b5c0-c4e1de5e8de2",
   "metadata": {},
   "outputs": [],
   "source": [
    "# Empty Cells in entire dataFrame\n",
    "empty_cell_count_spotify_album = spotify_album_df.select([sum(when(trim(col(i))==\"\",1).otherwise(0))\\\n",
    "                                                          .cast(\"int\").alias(i) for i in spotify_album_df.columns])\n",
    "#print(null_count_spotify_album.show())\n",
    "empty_cell_count_spotify_album.show()"
   ]
  },
  {
   "cell_type": "code",
   "execution_count": null,
   "id": "8cd7389d-99c2-45e0-8727-7a4682d5c9a9",
   "metadata": {},
   "outputs": [],
   "source": [
    "# Add all artist columns into one single \"all_artist\" column\n",
    "new_column_spotify_album=spotify_album_df.withColumn(\"all_artist\", concat(\n",
    "                                                                    coalesce(col(\"artists\"), lit(\"\")),\n",
    "                                                                    coalesce(col(\"artist_0\"), lit(\"\")),\n",
    "                                                                    coalesce(col(\"artist_1\"), lit(\"\")),\n",
    "                                                                    coalesce(col(\"artist_2\"), lit(\"\")),\n",
    "                                                                    coalesce(col(\"artist_3\"), lit(\"\")),\n",
    "                                                                    coalesce(col(\"artist_4\"), lit(\"\")),\n",
    "                                                                    coalesce(col(\"artist_5\"), lit(\"\")),\n",
    "                                                                    coalesce(col(\"artist_6\"), lit(\"\")),\n",
    "                                                                    coalesce(col(\"artist_7\"), lit(\"\")),\n",
    "                                                                    coalesce(col(\"artist_8\"), lit(\"\")),\n",
    "                                                                    coalesce(col(\"artist_9\"), lit(\"\")),\n",
    "                                                                    coalesce(col(\"artist_10\"), lit(\"\")),\n",
    "                                                                    coalesce(col(\"artist_11\"), lit(\"\"))))\n",
    "\n",
    "new_column_spotify_album.show()"
   ]
  },
  {
   "cell_type": "code",
   "execution_count": null,
   "id": "57eb5271-ef13-4643-b17c-637ea0b2502c",
   "metadata": {},
   "outputs": [],
   "source": [
    "# Convert to Pandas for better display\n",
    "new_column_spotify_album_df_pd = new_column_spotify_album.toPandas()\n",
    "\n",
    "# Display \n",
    "display(new_column_spotify_album_df_pd.head(10))  # Show first 10 rows\n"
   ]
  },
  {
   "cell_type": "code",
   "execution_count": null,
   "id": "bbb53f60-084a-4284-953f-a94bef09ebcc",
   "metadata": {},
   "outputs": [],
   "source": [
    "# Count the number of null values in \"all_artist\" column\n",
    "\n",
    "selected_columns = [\"all_artist\"]\n",
    "null_count_new_column_spotify_album_df = new_column_spotify_album.select([sum(col(i).isNull().cast(\"int\")).alias(i) for i in selected_columns])\n",
    "null_count_new_column_spotify_album_df.show()"
   ]
  },
  {
   "cell_type": "code",
   "execution_count": null,
   "id": "4644c255-54b2-4b78-9efa-4d2a902aede3",
   "metadata": {},
   "outputs": [],
   "source": [
    "# drop the unwanted columns\n",
    "new_column_spotify_album = new_column_spotify_album.drop(\"artists\",\"artist_0\", \"artist_1\", \"artist_2\",\"artist_3\",\n",
    "                                                        \"artist_4\",\"artist_5\",\"artist_6\",\"artist_7\",\"artist_8\",\n",
    "                                                        \"artist_9\",\"artist_10\",\"artist_11\",\"duration_ms\")\n",
    "new_column_spotify_album.show()"
   ]
  },
  {
   "cell_type": "code",
   "execution_count": 301,
   "id": "ca279a86-9570-4a95-b67c-b5305abaaa1c",
   "metadata": {},
   "outputs": [
    {
     "name": "stdout",
     "output_type": "stream",
     "text": [
      "438973\n",
      "13\n"
     ]
    }
   ],
   "source": [
    "print(new_column_spotify_album.count())\n",
    "print(len(new_column_spotify_album.columns))"
   ]
  },
  {
   "cell_type": "code",
   "execution_count": null,
   "id": "2cdf4a31-3f81-45cc-9c6b-65d4ff5b8ad8",
   "metadata": {},
   "outputs": [],
   "source": [
    "# Splitting release_date column into date only.\n",
    "# Casting the datatype of release_date column from string into date.\n",
    "new_column_spotify_album=new_column_spotify_album.withColumn('release_date',substring('release_date',1,10))\\\n",
    "                        .withColumn('release_date',col('release_date').cast('date'))\n",
    "\n",
    "new_column_spotify_album.printSchema()"
   ]
  },
  {
   "cell_type": "code",
   "execution_count": null,
   "id": "87cb6e4c-2220-4dab-85ce-75434ddc4701",
   "metadata": {},
   "outputs": [],
   "source": [
    "new_column_spotify_album.show(5)"
   ]
  },
  {
   "cell_type": "code",
   "execution_count": 313,
   "id": "213ff9c2-c57b-42e4-bc7c-4cc0525b5486",
   "metadata": {},
   "outputs": [],
   "source": [
    "unique_rows = new_column_spotify_album.dropDuplicates()"
   ]
  },
  {
   "cell_type": "code",
   "execution_count": 315,
   "id": "fa59ae04-294e-4782-b88e-376bf251654f",
   "metadata": {},
   "outputs": [
    {
     "name": "stdout",
     "output_type": "stream",
     "text": [
      "438973\n",
      "13\n"
     ]
    }
   ],
   "source": [
    "print(unique_rows.count())\n",
    "print(len(unique_rows.columns))"
   ]
  },
  {
   "cell_type": "raw",
   "id": "62266a57-faf7-48d0-b278-e7669057e961",
   "metadata": {},
   "source": [
    "# Convert to Pandas\n",
    "new_column_spotify_album_save = new_column_spotify_album.toPandas()\n",
    "\n",
    "# Save as CSV using Pandas\n",
    "new_column_spotify_album_save.to_csv(\"C:/Users/vinishkumar.yadav/pyspark/spotify_dataset/cleaned_data/cleaned_spotify_albums_data.csv\", index=False)\n",
    "\n",
    "# Save as CSV pySpark\n",
    "#new_column_spotify_album_save.write.option(\"header\", \"true\").csv(\"C:/Users/vinishkumar.yadav/pyspark/spotify_dataset/cleaned_data/cleaned_spotify_albums_data.csv\")"
   ]
  },
  {
   "cell_type": "code",
   "execution_count": null,
   "id": "4f27f229-c503-46bc-a820-ac59e13bcf21",
   "metadata": {},
   "outputs": [],
   "source": [
    "# Null Count in entire dataFrame\n",
    "new_column_spotify_album.select([sum(col(i).isNull().cast(\"int\"))\n",
    "                                 .alias(i) for i in new_column_spotify_album.columns]).show()\n"
   ]
  },
  {
   "cell_type": "markdown",
   "id": "87eaa746-9ade-4682-8431-63db1d0317bf",
   "metadata": {},
   "source": [
    "## Transformation on data"
   ]
  },
  {
   "cell_type": "code",
   "execution_count": null,
   "id": "3311742f-5377-455d-a93e-e032ebff6d53",
   "metadata": {},
   "outputs": [],
   "source": [
    "# renaming the dataframe\n",
    "cleaned_spotify_album_df=new_column_spotify_album"
   ]
  },
  {
   "cell_type": "code",
   "execution_count": null,
   "id": "0e685c7f-2c75-41c9-9566-2fe90eb77ffa",
   "metadata": {},
   "outputs": [],
   "source": [
    "# display the column name\n",
    "cleaned_spotify_album_df.columns"
   ]
  },
  {
   "cell_type": "markdown",
   "id": "bcbdaa08-5650-48f4-a389-e1fd25e14c70",
   "metadata": {},
   "source": [
    "#### Find all the album_types"
   ]
  },
  {
   "cell_type": "code",
   "execution_count": null,
   "id": "862b8c7a-4556-4540-a9a7-e4d552d4f409",
   "metadata": {},
   "outputs": [],
   "source": [
    "# Find all the albumns in album_types column\n",
    "unique_album_types_count=cleaned_spotify_album_df.select(\"album_type\").distinct()\n",
    "unique_album_types_count.show(truncate=False)\n",
    "print(f\"There are {unique_album_types_count.count()} types of albums\")"
   ]
  },
  {
   "cell_type": "markdown",
   "id": "3c064ede-40e0-455e-b1d2-3f61bdf4d414",
   "metadata": {},
   "source": [
    "#### Find total tracks in each album type."
   ]
  },
  {
   "cell_type": "code",
   "execution_count": null,
   "id": "1871e793-96d7-4725-accf-beeccfd53ab3",
   "metadata": {},
   "outputs": [],
   "source": [
    "# count of total_tracks for each album_type\n",
    "# Group by 'album_type' and sum the 'total_tracks'\n",
    "album_type_sum = cleaned_spotify_album_df.groupBy('album_type').agg(\n",
    "    sum('total_tracks').alias('sum_total_tracks'))\n",
    "\n",
    "# Show the result\n",
    "album_type_sum.show()"
   ]
  },
  {
   "cell_type": "code",
   "execution_count": null,
   "id": "34006294-daae-4bf2-8378-440582974411",
   "metadata": {},
   "outputs": [],
   "source": [
    "# Count the number of null values in \"sum_total_tracks\" column\n",
    "selected_columns = [\"sum_total_tracks\"]\n",
    "null_count2 = album_type_sum.select([sum(col(i).isNull().cast(\"int\")).alias(i) for i in selected_columns])\n",
    "null_count2.show()"
   ]
  },
  {
   "cell_type": "markdown",
   "id": "f86b2982-d786-486c-96c4-35dddee10b23",
   "metadata": {},
   "source": [
    "#### Highest number of tracks released in album type(album,single,compilation)"
   ]
  },
  {
   "cell_type": "code",
   "execution_count": null,
   "id": "ab954942-f314-44c8-9cfe-6322e9e063da",
   "metadata": {},
   "outputs": [],
   "source": [
    "# count of top 3 total_tracks for album_type\n",
    "top_3_counts1 = album_type_sum.orderBy(col('sum_total_tracks').desc())\\\n",
    "                    .where(col('album_type').isin('album','single','compilation'))                                                                                                                 \n",
    "\n",
    "# Show the result\n",
    "top_3_counts1.show()"
   ]
  },
  {
   "cell_type": "markdown",
   "id": "404dca04-0da9-4e9e-837a-e2fac26dae98",
   "metadata": {},
   "source": [
    "#### Find the number of labels in the dataset."
   ]
  },
  {
   "cell_type": "code",
   "execution_count": null,
   "id": "6c55bf99-6cf2-4fd9-ac1e-63fd7cd7e749",
   "metadata": {},
   "outputs": [],
   "source": [
    "# Find the distinct lables in lable column\n",
    "unique_lables=cleaned_spotify_album_df.select(\"label\").distinct()\n",
    "unique_lables.show(truncate=False)\n",
    "print(f\"There are {unique_lables.count()} types of labels\")"
   ]
  },
  {
   "cell_type": "code",
   "execution_count": null,
   "id": "e63bbe6b-98f6-4f36-9b4b-b74ffe591c46",
   "metadata": {},
   "outputs": [],
   "source": [
    "# show data of 'album', 'single',\"compilation\" in album_type column\n",
    "label_df = cleaned_spotify_album_df.filter(cleaned_spotify_album_df.album_type.isin('album', 'single',\"compilation\"))\n",
    "label_df.show()"
   ]
  },
  {
   "cell_type": "markdown",
   "id": "60e5bde5-a007-4488-907e-0ad405c2a2d2",
   "metadata": {},
   "source": [
    "#### Labels which has released single,album and compilation tracks and their count."
   ]
  },
  {
   "cell_type": "code",
   "execution_count": null,
   "id": "d5aa7c17-c1ee-425d-942b-bc48eae5c203",
   "metadata": {},
   "outputs": [],
   "source": [
    "# Find those labels which has release single, albums and compilation songs in album_type column\n",
    "# Also find the count of tracks released by those labels\n",
    "labels_album_type_count = label_df.groupBy(\"album_type\",'label').count().orderBy(col('album_type').desc())\n",
    "\n",
    "# Display the result\n",
    "labels_album_type_count.show(10,False)"
   ]
  },
  {
   "cell_type": "markdown",
   "id": "bf16755e-c371-49e6-b55b-5f503ef576f6",
   "metadata": {},
   "source": [
    "#### Display the artist_name, track_name,label wrt popularity."
   ]
  },
  {
   "cell_type": "code",
   "execution_count": null,
   "id": "52daa1c0-6bf3-499b-9f5e-aa2022d269e5",
   "metadata": {},
   "outputs": [],
   "source": [
    "# Sorting the track_name,album_name,label,all_artist by album_popularity\n",
    "\n",
    "artist_name = cleaned_spotify_album_df.withColumn(\"album_popularity\",col(\"album_popularity\").cast(\"integer\"))\n",
    "# Filter to exclude NULL values in 'album_popularity', then select and order\n",
    "filtered_df = (artist_name\n",
    "                .filter(cleaned_spotify_album_df.album_popularity.isNotNull())  # Exclude rows where album_popularity is NULL\n",
    "                .select('track_name', 'album_name', 'label', 'all_artist', 'album_popularity')  # Select desired columns\n",
    "                .orderBy(col('album_popularity').desc()))  # Order by album_popularity in descending order\n",
    "\n",
    "\n",
    "# Show the result\n",
    "filtered_df.show()\n"
   ]
  },
  {
   "cell_type": "markdown",
   "id": "20106b3e-34eb-440a-8643-0ff557d54bda",
   "metadata": {},
   "source": [
    "#### Album release over the year."
   ]
  },
  {
   "cell_type": "code",
   "execution_count": null,
   "id": "a1b1751c-2fd8-4f2e-bb6d-493871273bb8",
   "metadata": {},
   "outputs": [],
   "source": [
    "# Extract the year from the release_date column\n",
    "album_releases_by_year = cleaned_spotify_album_df.withColumn('release_year', year(col('release_date')))\n",
    "\n",
    "# Group by 'release_year' and count the number of albums released each year\n",
    "album_releases_count = album_releases_by_year.groupBy('release_year').count().orderBy('release_year')\n",
    "\n",
    "# Show the result\n",
    "album_releases_count.show(truncate=False)\n"
   ]
  },
  {
   "cell_type": "code",
   "execution_count": null,
   "id": "c7aca48a-76e3-43c5-b14b-2ddf8e71abba",
   "metadata": {},
   "outputs": [],
   "source": [
    "# Filter the dataset to include only 'album', 'single', and 'compilation'\n",
    "album_releases_filtered = cleaned_spotify_album_df.filter(col('album_type').isin('album', 'single', 'compilation'))\n",
    "\n",
    "album_releases_by_year = album_releases_filtered.withColumn('release_year',year(col('release_date')))\n",
    "\n",
    "# Group by 'album_type' and collect the 'release_date' for each type\n",
    "album_releases_by_type = album_releases_by_year.groupBy('album_type','release_date').count().orderBy(\"release_date\")\n",
    "\n",
    "# Show the result\n",
    "album_releases_by_type.show(truncate=False)\n"
   ]
  },
  {
   "cell_type": "markdown",
   "id": "7689219c-b4f5-4aea-aeaa-088e15eb3e1c",
   "metadata": {},
   "source": [
    "# Working on spotify_artist_data_2023.csv"
   ]
  },
  {
   "cell_type": "markdown",
   "id": "736250ed-bf06-40d3-9040-541f7b6907b6",
   "metadata": {},
   "source": [
    "## Cleaning the data"
   ]
  },
  {
   "cell_type": "code",
   "execution_count": 18,
   "id": "a5e08f85-a882-4494-9fdd-89640434861b",
   "metadata": {},
   "outputs": [],
   "source": [
    "# Load the data of spotify-album_data_2023.csv\n",
    "spotify_artist_df=spark.read.format(\"csv\")\\\n",
    ".option(\"header\",\"true\")\\\n",
    ".option(\"inferschema\",\"true\")\\\n",
    ".option(\"mode\",\"PERMISSIVE\")\\\n",
    ".load(\"C:/Users/vinishkumar.yadav/pyspark/spotify_dataset/data/spotify_artist_data_2023.csv\")"
   ]
  },
  {
   "cell_type": "code",
   "execution_count": null,
   "id": "311fb6c0-2c17-4275-8037-14cf53422744",
   "metadata": {},
   "outputs": [],
   "source": [
    "spotify_artist_df.show(10)"
   ]
  },
  {
   "cell_type": "code",
   "execution_count": 20,
   "id": "97580ac8-d8b2-4555-8fe6-02d271f9f2ad",
   "metadata": {},
   "outputs": [
    {
     "name": "stdout",
     "output_type": "stream",
     "text": [
      "root\n",
      " |-- id: string (nullable = true)\n",
      " |-- name: string (nullable = true)\n",
      " |-- artist_popularity: integer (nullable = true)\n",
      " |-- artist_genres: string (nullable = true)\n",
      " |-- followers: string (nullable = true)\n",
      " |-- genre_0: string (nullable = true)\n",
      " |-- genre_1: string (nullable = true)\n",
      " |-- genre_2: string (nullable = true)\n",
      " |-- genre_3: string (nullable = true)\n",
      " |-- genre_4: string (nullable = true)\n",
      " |-- genre_5: string (nullable = true)\n",
      " |-- genre_6: string (nullable = true)\n",
      "\n"
     ]
    }
   ],
   "source": [
    "# Display the datatype of columns\n",
    "spotify_artist_df.printSchema()"
   ]
  },
  {
   "cell_type": "code",
   "execution_count": null,
   "id": "6344a4be-5f84-4ff6-95ec-624cb1a15715",
   "metadata": {},
   "outputs": [],
   "source": [
    "# Display the column names\n",
    "spotify_artist_df.columns"
   ]
  },
  {
   "cell_type": "code",
   "execution_count": null,
   "id": "efb7f27e-7c84-4206-9956-9c6aa7b17d6c",
   "metadata": {},
   "outputs": [],
   "source": [
    "# Display the column names\n",
    "spotify_artist_df.describe().show()"
   ]
  },
  {
   "cell_type": "code",
   "execution_count": null,
   "id": "c453ed07-f5a5-45e3-9664-9e67ced70d86",
   "metadata": {},
   "outputs": [],
   "source": [
    "# Finding number of rows and columns\n",
    "row_num_spotify_artist=spotify_artist_df.count()\n",
    "column_num_spotify_artist=len(spotify_artist_df.columns)\n",
    "\n",
    "print(f\"Number of rows : {row_num_spotify_artist}\")\n",
    "print(f\"Number of columns : {column_num_spotify_artist}\")"
   ]
  },
  {
   "cell_type": "code",
   "execution_count": null,
   "id": "b497d06c-d33c-4453-8c5e-9b0c655f7926",
   "metadata": {},
   "outputs": [],
   "source": [
    "# Null Count in entire dataFrame\n",
    "null_count_spotify_artist = spotify_artist_df.select([sum(col(i).isNull().cast(\"int\")).alias(i) for i in spotify_artist_df.columns])\n",
    "null_count_spotify_artist.show()"
   ]
  },
  {
   "cell_type": "code",
   "execution_count": null,
   "id": "86a42856-f2c7-40e3-81a0-be487cd15b66",
   "metadata": {},
   "outputs": [],
   "source": [
    "# Empty Cells in entire dataFrame\n",
    "empty_cell_count_spotify_artist = spotify_artist_df.select([sum(when(trim(col(i))==\"\",1).otherwise(0))\\\n",
    "                                                          .cast(\"int\").alias(i) for i in spotify_artist_df.columns])\n",
    "empty_cell_count_spotify_artist.show()"
   ]
  },
  {
   "cell_type": "code",
   "execution_count": null,
   "id": "b34bbfdd-30f4-4b1e-b33e-812ec97f84a8",
   "metadata": {},
   "outputs": [],
   "source": [
    "# Proportion of each column that is a null value\n",
    "proportion = spotify_artist_df.select(\n",
    "    [(sum(col(i).isNull().cast(\"int\"))/37012).alias(i) for i in spotify_artist_df.columns])\n",
    "\n",
    "proportion.show()"
   ]
  },
  {
   "cell_type": "markdown",
   "id": "a7a6f07e-b5bd-4ef9-98d4-02e494628edc",
   "metadata": {},
   "source": [
    "The proportion of null values among the \"genre\" type variables is too high that makes these columns not useful \n",
    "for further analysis, therefore, we will drop them"
   ]
  },
  {
   "cell_type": "code",
   "execution_count": null,
   "id": "026ffb0f-b006-4c0e-9d20-3bb5b4590818",
   "metadata": {},
   "outputs": [],
   "source": [
    "# drop the unwanted columns\n",
    "new_column_spotify_artist = spotify_artist_df.drop(\"genre_0\",\"genre_1\", \"genre_2\", \"genre_3\",\"genre_4\",\n",
    "                                                        \"genre_5\",\"genre_6\")\n",
    "\n",
    "new_column_spotify_artist.show()"
   ]
  },
  {
   "cell_type": "code",
   "execution_count": null,
   "id": "f6c6bb72-a1ca-4660-9778-65e85d7eca99",
   "metadata": {},
   "outputs": [],
   "source": [
    "# Change the datatype of followers column frong string to integer.\n",
    "new_column_spotify_artist=new_column_spotify_artist.withColumn(\"followers\",col(\"followers\").cast(\"int\"))"
   ]
  },
  {
   "cell_type": "raw",
   "id": "0a7a0c90-509f-4256-bd3c-6a981443bbc8",
   "metadata": {},
   "source": [
    "# Saving the new dataframe \n",
    "# Convert to Pandas\n",
    "new_column_spotify_artist_save = new_column_spotify_artist.toPandas()\n",
    "\n",
    "# Save as CSV using Pandas\n",
    "new_column_spotify_artist_save.to_csv(\"C:/Users/vinishkumar.yadav/pyspark/spotify_dataset/cleaned_data/cleaned_spotify_artist_data.csv\", index=False)"
   ]
  },
  {
   "cell_type": "code",
   "execution_count": null,
   "id": "555f79cb-049c-48ff-ac9e-2f97f1474baf",
   "metadata": {},
   "outputs": [],
   "source": []
  },
  {
   "cell_type": "markdown",
   "id": "fb9c4246-72fe-405b-a603-aa2b70e865fd",
   "metadata": {},
   "source": [
    "# Working on spotify_tracks_data_2023.csv"
   ]
  },
  {
   "cell_type": "markdown",
   "id": "c092f996-b204-4943-9852-9bee29e6c653",
   "metadata": {},
   "source": [
    "## Cleaning the data"
   ]
  },
  {
   "cell_type": "code",
   "execution_count": 22,
   "id": "863c3d1e-2898-465e-a43b-c0982db4af44",
   "metadata": {},
   "outputs": [],
   "source": [
    "spotify_track_df=spark.read.format(\"csv\")\\\n",
    "                     .option(\"header\",\"true\")\\\n",
    "                     .option(\"mode\",\"PERMISSIVE\")\\\n",
    "                     .option(\"inferschema\",\"true\")\\\n",
    "                     .load(\"C:/Users/vinishkumar.yadav/pyspark/spotify_dataset/data/spotify_tracks_data_2023.csv\")"
   ]
  },
  {
   "cell_type": "code",
   "execution_count": null,
   "id": "20bf6f6c-0256-47c1-b226-1728c562ced4",
   "metadata": {},
   "outputs": [],
   "source": [
    "spotify_track_df.show()"
   ]
  },
  {
   "cell_type": "code",
   "execution_count": null,
   "id": "41fbc17a-286b-48c7-9b49-48161f010a92",
   "metadata": {},
   "outputs": [],
   "source": [
    "# Display the columns of dataset\n",
    "spotify_track_df.columns"
   ]
  },
  {
   "cell_type": "code",
   "execution_count": 24,
   "id": "84d8e4f8-efe2-42b4-9a61-5f4f3c268349",
   "metadata": {},
   "outputs": [
    {
     "name": "stdout",
     "output_type": "stream",
     "text": [
      "root\n",
      " |-- id: string (nullable = true)\n",
      " |-- track_popularity: integer (nullable = true)\n",
      " |-- explicit: boolean (nullable = true)\n",
      "\n"
     ]
    }
   ],
   "source": [
    "# Display the datatype of columns\n",
    "spotify_track_df.printSchema()"
   ]
  },
  {
   "cell_type": "code",
   "execution_count": null,
   "id": "67459878-b935-4800-898c-9d8459b86bd7",
   "metadata": {},
   "outputs": [],
   "source": [
    "# Find rows and columns\n",
    "row_count_spotify_track=spotify_track_df.count()\n",
    "column_count_spotify_track=len(spotify_track_df.columns)\n",
    "\n",
    "print(f\"Number of rows    : {row_count_spotify_track}\")\n",
    "print(f\"Number of columns : {column_count_spotify_track}\")"
   ]
  },
  {
   "cell_type": "code",
   "execution_count": null,
   "id": "f4f8c9f4-b30f-4675-bc02-6a5dedc6ae58",
   "metadata": {},
   "outputs": [],
   "source": [
    "# Find the null values in the entire dataframe\n",
    "null_count_spotify_track=spotify_track_df.select([sum(col(i).isNull().cast(\"int\")).alias(i) for i in spotify_track_df.columns])\n",
    "null_count_spotify_track.show()"
   ]
  },
  {
   "cell_type": "code",
   "execution_count": null,
   "id": "859eaea4-ba4d-40ff-a73f-f4a4ecb820df",
   "metadata": {},
   "outputs": [],
   "source": []
  },
  {
   "cell_type": "markdown",
   "id": "25017ea5-ca9f-4d9d-8e0f-c6e68e9fd06c",
   "metadata": {},
   "source": [
    "# Working on spotify_feature_data_2023.csv"
   ]
  },
  {
   "cell_type": "markdown",
   "id": "d72552cc-da8b-4d53-b627-e367eab5e49f",
   "metadata": {},
   "source": [
    "## Cleaning the data"
   ]
  },
  {
   "cell_type": "code",
   "execution_count": 26,
   "id": "f75f02d6-c7d3-40ed-9212-2c387ecffc9c",
   "metadata": {},
   "outputs": [],
   "source": [
    "spotify_feature_df=spark.read.format(\"csv\")\\\n",
    "                     .option(\"header\",\"true\")\\\n",
    "                     .option(\"mode\",\"PERMISSIVE\")\\\n",
    "                     .option(\"inferschema\",\"true\")\\\n",
    "                     .load(\"C:/Users/vinishkumar.yadav/pyspark/spotify_dataset/data/spotify_features_data_2023.csv\")"
   ]
  },
  {
   "cell_type": "code",
   "execution_count": null,
   "id": "4f60ebee-8f86-4b44-8fab-5165eacc3a84",
   "metadata": {},
   "outputs": [],
   "source": [
    "spotify_feature_df.show()"
   ]
  },
  {
   "cell_type": "code",
   "execution_count": null,
   "id": "4fa9423b-a0b5-49fd-a802-0ea7e6bb2d7f",
   "metadata": {},
   "outputs": [],
   "source": [
    "# Display the columns of dataset\n",
    "spotify_feature_df.columns"
   ]
  },
  {
   "cell_type": "code",
   "execution_count": null,
   "id": "5c2d20e2-e92d-4980-9e39-61d166e03251",
   "metadata": {},
   "outputs": [],
   "source": [
    "# Find rows and columns\n",
    "row_count_spotify_feature=spotify_feature_df.count()\n",
    "column_count_spotify_feature=len(spotify_feature_df.columns)\n",
    "\n",
    "print(f\"Number of rows    : {row_count_spotify_feature}\")\n",
    "print(f\"Number of columns : {column_count_spotify_feature}\")"
   ]
  },
  {
   "cell_type": "code",
   "execution_count": 28,
   "id": "c82b98c0-a0cc-48c1-b23d-726f0838ab5d",
   "metadata": {},
   "outputs": [
    {
     "name": "stdout",
     "output_type": "stream",
     "text": [
      "root\n",
      " |-- danceability: double (nullable = true)\n",
      " |-- energy: double (nullable = true)\n",
      " |-- key: integer (nullable = true)\n",
      " |-- loudness: double (nullable = true)\n",
      " |-- mode: integer (nullable = true)\n",
      " |-- speechiness: double (nullable = true)\n",
      " |-- acousticness: double (nullable = true)\n",
      " |-- instrumentalness: double (nullable = true)\n",
      " |-- liveness: double (nullable = true)\n",
      " |-- valence: double (nullable = true)\n",
      " |-- tempo: double (nullable = true)\n",
      " |-- type: string (nullable = true)\n",
      " |-- id: string (nullable = true)\n",
      " |-- uri: string (nullable = true)\n",
      " |-- track_href: string (nullable = true)\n",
      " |-- analysis_url: string (nullable = true)\n",
      " |-- duration_ms: integer (nullable = true)\n",
      " |-- time_signature: integer (nullable = true)\n",
      "\n"
     ]
    }
   ],
   "source": [
    "# Display the datatype of columns\n",
    "spotify_feature_df.printSchema()"
   ]
  },
  {
   "cell_type": "code",
   "execution_count": null,
   "id": "ff503fad-1e40-4ccc-bece-3df482dc63fa",
   "metadata": {},
   "outputs": [],
   "source": [
    "# Find the null values in the entire dataframe\n",
    "null_count_spotify_feature=spotify_feature_df.select([sum(col(i).isNull().cast(\"int\")).alias(i) for i in spotify_feature_df.columns])\n",
    "null_count_spotify_feature.show()"
   ]
  },
  {
   "cell_type": "code",
   "execution_count": null,
   "id": "6f50a666-4e71-4bb4-87e0-c529451f28b8",
   "metadata": {},
   "outputs": [],
   "source": [
    "# drop the unwanted columns\n",
    "new_column_spotify_feature = spotify_feature_df.drop(\"type\",\"uri\", \"track_href\", \"analysis_url\")\n",
    "\n",
    "new_column_spotify_feature.show()"
   ]
  },
  {
   "cell_type": "raw",
   "id": "9b97b318-a12f-44cb-8905-b3512e059565",
   "metadata": {},
   "source": [
    "# Saving the new dataframe \n",
    "# Convert to Pandas\n",
    "new_column_spotify_feature_save = new_column_spotify_feature.toPandas()\n",
    "\n",
    "# Save as CSV using Pandas\n",
    "new_column_spotify_feature_save.to_csv(\"C:/Users/vinishkumar.yadav/pyspark/spotify_dataset/cleaned_data/cleaned_spotify_features_data.csv\", index=False)"
   ]
  },
  {
   "cell_type": "code",
   "execution_count": null,
   "id": "ea788641-274d-4934-91fe-70f652d5f42b",
   "metadata": {},
   "outputs": [],
   "source": []
  },
  {
   "cell_type": "markdown",
   "id": "031b663e-7ceb-428c-ae00-9aee2eeb44f0",
   "metadata": {},
   "source": [
    "# Transformation on spotify_artist_data_2023.csv"
   ]
  },
  {
   "cell_type": "markdown",
   "id": "7837d7bf-fe93-4ef7-903c-f86b2da937ab",
   "metadata": {},
   "source": [
    "#### Top 5 artists based on total number of followers."
   ]
  },
  {
   "cell_type": "code",
   "execution_count": null,
   "id": "57704663-5afe-4f9e-be2a-da3156482d7e",
   "metadata": {},
   "outputs": [],
   "source": [
    "top_5_artist=new_column_spotify_artist.select('followers','name')\\\n",
    "                                      .orderBy(col(\"followers\").desc()).limit(5)\n",
    "top_5_artist.show()"
   ]
  },
  {
   "cell_type": "markdown",
   "id": "4b316e49-7754-40b2-a028-757ed3eb812e",
   "metadata": {},
   "source": [
    "#### Top 5 artists based on average popularity rating."
   ]
  },
  {
   "cell_type": "code",
   "execution_count": null,
   "id": "d0996972-2335-44ac-bcdb-dbd228491a81",
   "metadata": {},
   "outputs": [],
   "source": [
    "top_5_artist_avg = new_column_spotify_artist.groupBy(\"name\").agg(avg(\"artist_popularity\").alias(\"avg_popularity\"))\\\n",
    "                                            .orderBy(col(\"avg_popularity\").desc()).limit(5)\n",
    "top_5_artist_avg.show()"
   ]
  },
  {
   "cell_type": "markdown",
   "id": "feefe7aa-8eff-4723-af6e-498e5966f407",
   "metadata": {},
   "source": [
    "####  Who are the artists in the top 50 and how many songs to they have in this list?"
   ]
  },
  {
   "cell_type": "code",
   "execution_count": null,
   "id": "a66c09ed-02ef-4987-aadc-20716f513c70",
   "metadata": {},
   "outputs": [],
   "source": [
    "new_df_join = new_column_spotify_artist.join(new_column_spotify_album,new_column_spotify_album.artist_id==new_column_spotify_artist.id,\"inner\")"
   ]
  },
  {
   "cell_type": "code",
   "execution_count": null,
   "id": "1ee13793-c1e7-4566-ae54-8c7585352078",
   "metadata": {},
   "outputs": [],
   "source": [
    "top_50_artist = new_df_join.groupBy(\"artist_id\",\"name\").agg(count(\"track_id\").alias(\"total_tracks\")).orderBy(col(\"total_tracks\").desc()).limit(50)\n",
    "top_50_artist.show()"
   ]
  },
  {
   "cell_type": "code",
   "execution_count": null,
   "id": "f6fd0339-e047-41bc-abfb-d70765dbe0ca",
   "metadata": {},
   "outputs": [],
   "source": []
  },
  {
   "cell_type": "markdown",
   "id": "8615400d-2c4b-4b65-908d-a2ad5c24ae00",
   "metadata": {},
   "source": [
    "# Transformation on spotify_track_data_2023.csv"
   ]
  },
  {
   "cell_type": "markdown",
   "id": "696bd090-9f56-4da5-a922-cdd0e0ae8217",
   "metadata": {},
   "source": [
    "#### How has the proportion of explicit content behaved over the years?"
   ]
  },
  {
   "cell_type": "code",
   "execution_count": null,
   "id": "bb3beef9-94d9-4e23-9fcd-ee2871f0aa06",
   "metadata": {},
   "outputs": [],
   "source": [
    "spotify_track_df\n",
    "new_column_spotify_album"
   ]
  },
  {
   "cell_type": "code",
   "execution_count": 215,
   "id": "f6e84422-9ae7-49fb-81d1-c60ba541a5cd",
   "metadata": {},
   "outputs": [],
   "source": [
    "spotify_track_join = spotify_track_df.join(new_column_spotify_album, new_column_spotify_album.track_id==spotify_track_df.id,\"inner\")"
   ]
  },
  {
   "cell_type": "code",
   "execution_count": 110,
   "id": "23071715-0fc5-4d40-b502-0285efefe460",
   "metadata": {},
   "outputs": [],
   "source": [
    "explicit_behaviour = spotify_track_join.withColumn(\"release_year\", year(\"release_date\"))\\\n",
    "                                            .groupBy(\"explicit\",\"release_year\").agg(count(col(\"explicit\")).alias(\"explicit_count\"))\\\n",
    "                                            .orderBy(col(\"release_year\"))"
   ]
  },
  {
   "cell_type": "code",
   "execution_count": null,
   "id": "d157ed71-ff47-4d3f-b818-15f2c043ed3d",
   "metadata": {},
   "outputs": [],
   "source": [
    "explicit_behaviour.show(5,False)"
   ]
  },
  {
   "cell_type": "markdown",
   "id": "82ca257b-eaae-47ee-a216-c37b60b04024",
   "metadata": {},
   "source": [
    "#### Create a new variable to track the proportion of tracks with explicit content, among the total tracks per year."
   ]
  },
  {
   "cell_type": "code",
   "execution_count": null,
   "id": "f7a59a3d-692b-4a38-800f-4a2397111e5f",
   "metadata": {},
   "outputs": [],
   "source": [
    "total_tracks_per_year = spotify_track_join.withColumn(\"release_year\", year(\"release_date\"))\\\n",
    "                                        .filter(col(\"release_year\").isNotNull())\\\n",
    "                                        .groupBy(\"release_year\",\"explicit\").agg(sum(col(\"total_tracks\")).alias(\"total_tracks\")\n",
    "                                                                                ,count(col(\"explicit\")).alias(\"explicit_count\"))\\\n",
    "                                        .orderBy(col(\"release_year\"))\n",
    "\n",
    "# Add a new column for the proportion of explicit tracks\n",
    "total_tracks_per_year1 = total_tracks_per_year.withColumn(\"explicit_proportion\",\n",
    "    round(when((col(\"total_tracks\")>0) & (col(\"explicit\")==1), col(\"explicit_count\")/col(\"total_tracks\"))\\\n",
    "    .otherwise((col(\"total_tracks\")-col(\"explicit_count\"))/col(\"total_tracks\")),2))\n",
    "\n",
    "total_tracks_per_year1.show()"
   ]
  },
  {
   "cell_type": "markdown",
   "id": "0e6ff4c2-3185-4980-b404-24eb382ccc89",
   "metadata": {},
   "source": [
    "#### How has the duration of tracks changed over the years?"
   ]
  },
  {
   "cell_type": "code",
   "execution_count": null,
   "id": "706c44d5-4c33-4ea7-8a04-1a7ad93f143b",
   "metadata": {},
   "outputs": [],
   "source": [
    "# Extracting the year from yyyy-mm-dd\n",
    "df_of_year = new_column_spotify_album.withColumn(\"release_year\", year(\"release_date\"))\n",
    "\n",
    "# Filter out those records which does not contain any null value\n",
    "df_of_year= df_of_year.filter(col(\"duration_sec\").isNotNull() & col(\"release_year\").isNotNull())\n",
    "\n",
    "average_duration = df_of_year.groupBy(\"release_year\").agg(round(avg(\"duration_sec\"),2)\n",
    "                                                          .alias(\"average_duration\"))\\\n",
    "                                                          .orderBy(col(\"release_year\"))\n",
    "average_duration.show()"
   ]
  },
  {
   "cell_type": "code",
   "execution_count": null,
   "id": "84a0d293-c537-4838-95db-a5853dd7ef84",
   "metadata": {},
   "outputs": [],
   "source": [
    "window_track= Window.orderBy(\"release_year\")\n",
    "average_duration_lag = average_duration.withColumn(\"previous_year_avg_duration(sec)\", (lag(col(\"average_duration\"),1)\n",
    "                                                  .over(window_track)))\n",
    "average_duration_lag.show()"
   ]
  },
  {
   "cell_type": "code",
   "execution_count": null,
   "id": "5cb0301a-e581-4312-b38b-f43a1dd631b7",
   "metadata": {},
   "outputs": [],
   "source": [
    "track_changed=average_duration_lag\\\n",
    "    .withColumn(\"%loss_gain\", round(((col(\"average_duration\")-col(\"previous_year_avg_duration(sec)\"))/col(\"average_duration\"))*100,2))\n",
    "track_changed.show()"
   ]
  },
  {
   "cell_type": "code",
   "execution_count": null,
   "id": "836a5823-a406-4156-8091-6a54ec9d39e5",
   "metadata": {},
   "outputs": [],
   "source": []
  },
  {
   "cell_type": "markdown",
   "id": "c80213e2-7ed9-4ec6-af6b-fe8abe9f8086",
   "metadata": {},
   "source": [
    "#### Let's check the trends from the 60's!(\tYear\tid\tduration_sec\texplicit\t% explicit)"
   ]
  },
  {
   "cell_type": "code",
   "execution_count": null,
   "id": "bf3d1989-cd22-4e03-9fc0-c122b81af491",
   "metadata": {},
   "outputs": [],
   "source": [
    "spotify_track_join.printSchema()"
   ]
  },
  {
   "cell_type": "code",
   "execution_count": null,
   "id": "eb6bb487-fb58-4e39-9063-76f7005ab425",
   "metadata": {},
   "outputs": [],
   "source": [
    "explicit_count_60s = spotify_track_join.withColumn(\"year\", year(\"release_date\"))\\\n",
    "                                       .where((col(\"year\")>=1960) & (col(\"year\")<=1969))\\\n",
    "                                       .groupBy(\"year\").agg(count(\"explicit\").alias(\"explicit_count\"))\n",
    "explicit_count_60s.show(10)"
   ]
  },
  {
   "cell_type": "code",
   "execution_count": 283,
   "id": "810e5169-6d62-408d-8099-53359342e343",
   "metadata": {},
   "outputs": [
    {
     "name": "stdout",
     "output_type": "stream",
     "text": [
      "+----+--------------------+------------+--------------+\n",
      "|year|            track_id|duration_sec|explicit_count|\n",
      "+----+--------------------+------------+--------------+\n",
      "|1960|2HjGXzYim1CmvBzrZ...|      144.36|           357|\n",
      "|1960|78Au1HXTWKHdXzbbK...|     267.266|           357|\n",
      "|1960|3PiFCNfm0IIwaBRkd...|     307.834|           357|\n",
      "|1960|5dJEMlIHCUqWiCS4D...|      273.04|           357|\n",
      "|1960|3L4bHmQjrCbDeT5X6...|     204.892|           357|\n",
      "|1960|4Vg6HLivX0drxFGqg...|     231.106|           357|\n",
      "|1960|5VdHiODOghO0bAM1u...|     128.639|           357|\n",
      "|1960|3yGzvEA8cWSkpMeHA...|     260.322|           357|\n",
      "|1960|1tI5GZsOxD3o3UvD6...|     220.093|           357|\n",
      "|1960|0PPROHFTk7JWRfyN8...|     217.901|           357|\n",
      "|1960|67oPAbYskbUApqr0C...|     173.501|           357|\n",
      "|1960|1ICJNLZSsYl450ojf...|     323.266|           357|\n",
      "|1960|7vdCM2IJiFOiVoBH5...|      70.333|           357|\n",
      "|1960|6ypuIs8m35PRm9Ps3...|      108.96|           357|\n",
      "|1960|2DPjsMnKG6qsYDPeU...|     200.933|           357|\n",
      "|1960|2LCaWM4OKkdTZBhtt...|      145.64|           357|\n",
      "|1960|2VeE9iljk8tI75xsB...|     194.333|           357|\n",
      "|1960|6zQ869V7Eqe5WmMNO...|      167.56|           357|\n",
      "|1960|05D06DMMbaeLELNV0...|     166.646|           357|\n",
      "|1960|4fVLJpQrlJy9rXHki...|     135.039|           357|\n",
      "+----+--------------------+------------+--------------+\n",
      "only showing top 20 rows\n",
      "\n"
     ]
    }
   ],
   "source": [
    "trend_from_60s=spotify_track_join.withColumn(\"year\", year(\"release_date\"))\\\n",
    "                                 .where((col(\"year\")>=1960) & (col(\"year\")<=1969))\\\n",
    "                                 .join(explicit_count_60s ,on=\"year\", how=\"inner\")\\\n",
    "                                 .select(\"year\",\"track_id\",\"duration_sec\",\"explicit_count\")\\\n",
    "                                 .orderBy(col(\"year\"))\n",
    "trend_from_60s.show()"
   ]
  },
  {
   "cell_type": "code",
   "execution_count": null,
   "id": "9973d69c-2a7e-4564-b815-fab83596a3c5",
   "metadata": {},
   "outputs": [],
   "source": []
  }
 ],
 "metadata": {
  "kernelspec": {
   "display_name": "PYSPARK_KERNEL",
   "language": "python",
   "name": "pyspark_kernel"
  },
  "language_info": {
   "codemirror_mode": {
    "name": "ipython",
    "version": 3
   },
   "file_extension": ".py",
   "mimetype": "text/x-python",
   "name": "python",
   "nbconvert_exporter": "python",
   "pygments_lexer": "ipython3",
   "version": "3.12.7"
  }
 },
 "nbformat": 4,
 "nbformat_minor": 5
}
